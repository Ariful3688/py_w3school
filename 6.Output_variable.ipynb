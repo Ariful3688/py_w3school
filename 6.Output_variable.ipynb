{
 "cells": [
  {
   "cell_type": "code",
   "execution_count": 1,
   "id": "65342e97",
   "metadata": {},
   "outputs": [
    {
     "name": "stdout",
     "output_type": "stream",
     "text": [
      "Zerin love Ariful\n"
     ]
    }
   ],
   "source": [
    "x=\"Ariful\"\n",
    "print(\"Zerin love \"+x)"
   ]
  },
  {
   "cell_type": "code",
   "execution_count": 7,
   "id": "b1a35580",
   "metadata": {},
   "outputs": [
    {
     "name": "stdout",
     "output_type": "stream",
     "text": [
      "Zerin love ArifulDadmom\n"
     ]
    }
   ],
   "source": [
    "x,y,z=\"Ariful\",\"Dad\",\"mom\"\n",
    "print(\"Zerin love \" +x +y +z)"
   ]
  },
  {
   "cell_type": "code",
   "execution_count": 5,
   "id": "9dad58c8",
   "metadata": {},
   "outputs": [
    {
     "name": "stdout",
     "output_type": "stream",
     "text": [
      "Zerin love Ariful Dad mom\n"
     ]
    }
   ],
   "source": [
    "# for make sure space in output we use +\" \". make sure in colone there is a space.\n",
    "x,y,z=\"Ariful\",\"Dad\",\"mom\"\n",
    "print(\"Zerin love \" +x +\" \" +y+ \" \" +z)"
   ]
  },
  {
   "cell_type": "code",
   "execution_count": 6,
   "id": "0859658b",
   "metadata": {},
   "outputs": [
    {
     "name": "stdout",
     "output_type": "stream",
     "text": [
      "Zerin love Ariful Dad mom\n"
     ]
    }
   ],
   "source": [
    "# we can also make a space by give a space before of after the variable value.\n",
    "x,y,z=\"Ariful \",\"Dad \",\"mom\"\n",
    "print(\"Zerin love \" +x +y +z)"
   ]
  },
  {
   "cell_type": "code",
   "execution_count": 9,
   "id": "5cfed0e4",
   "metadata": {},
   "outputs": [
    {
     "name": "stdout",
     "output_type": "stream",
     "text": [
      "Ariful loves his parents\n"
     ]
    }
   ],
   "source": [
    "x=\"Ariful\"\n",
    "y=\" loves his parents\"\n",
    "z=x+y\n",
    "print(z)"
   ]
  },
  {
   "cell_type": "code",
   "execution_count": 11,
   "id": "c897df8f",
   "metadata": {},
   "outputs": [
    {
     "name": "stdout",
     "output_type": "stream",
     "text": [
      "5 Ariful\n"
     ]
    }
   ],
   "source": [
    "# by declear string we can run string and int value at a time.\n",
    "x= str(5)\n",
    "y= \" Ariful\"\n",
    "print(x+y)"
   ]
  },
  {
   "cell_type": "code",
   "execution_count": null,
   "id": "ea081c8a",
   "metadata": {},
   "outputs": [],
   "source": []
  }
 ],
 "metadata": {
  "kernelspec": {
   "display_name": "Python 3 (ipykernel)",
   "language": "python",
   "name": "python3"
  },
  "language_info": {
   "codemirror_mode": {
    "name": "ipython",
    "version": 3
   },
   "file_extension": ".py",
   "mimetype": "text/x-python",
   "name": "python",
   "nbconvert_exporter": "python",
   "pygments_lexer": "ipython3",
   "version": "3.9.12"
  }
 },
 "nbformat": 4,
 "nbformat_minor": 5
}
