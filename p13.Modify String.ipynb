{
 "cells": [
  {
   "cell_type": "code",
   "execution_count": 1,
   "id": "f2889b70",
   "metadata": {},
   "outputs": [
    {
     "name": "stdout",
     "output_type": "stream",
     "text": [
      "HELLO, WORLD!\n"
     ]
    }
   ],
   "source": [
    "# here we use upper function() by using variable\n",
    "\n",
    "a = \"Hello, World!\"\n",
    "print(a.upper())"
   ]
  },
  {
   "cell_type": "code",
   "execution_count": 2,
   "id": "72d31260",
   "metadata": {},
   "outputs": [
    {
     "name": "stdout",
     "output_type": "stream",
     "text": [
      "TEST\n"
     ]
    }
   ],
   "source": [
    "a = \"Hello, World!\"\n",
    "print(\"test\".upper())"
   ]
  },
  {
   "cell_type": "code",
   "execution_count": 4,
   "id": "f26e9b03",
   "metadata": {},
   "outputs": [
    {
     "name": "stdout",
     "output_type": "stream",
     "text": [
      "ariful\n"
     ]
    }
   ],
   "source": [
    "a =\"ariful\"\n",
    "print(a.lower())"
   ]
  },
  {
   "cell_type": "code",
   "execution_count": 5,
   "id": "3d75621a",
   "metadata": {},
   "outputs": [
    {
     "name": "stdout",
     "output_type": "stream",
     "text": [
      " ariful islam ! \n"
     ]
    }
   ],
   "source": [
    "a=\" ariful islam ! \"\n",
    "print(a)\n",
    "\n",
    "# in here we can see there is a space before ariful."
   ]
  },
  {
   "cell_type": "code",
   "execution_count": 6,
   "id": "419b1ac7",
   "metadata": {},
   "outputs": [
    {
     "name": "stdout",
     "output_type": "stream",
     "text": [
      "ariful islam !\n"
     ]
    }
   ],
   "source": [
    "# we use strip for remove space.\n",
    "\n",
    "a=\" ariful islam ! \"\n",
    "print(a.strip())"
   ]
  },
  {
   "cell_type": "code",
   "execution_count": 7,
   "id": "30d16bbf",
   "metadata": {},
   "outputs": [
    {
     "name": "stdout",
     "output_type": "stream",
     "text": [
      "ARIFUL ISLAM !\n"
     ]
    }
   ],
   "source": [
    "a=\" ariful islam ! \"\n",
    "print(a.strip().upper())"
   ]
  },
  {
   "cell_type": "code",
   "execution_count": 8,
   "id": "10eff91b",
   "metadata": {},
   "outputs": [
    {
     "name": "stdout",
     "output_type": "stream",
     "text": [
      "ariful islam !\n"
     ]
    }
   ],
   "source": [
    "a=\" Ariful Islam ! \"\n",
    "print(a.strip().upper().lower())\n",
    "\n",
    "# python always read left to right. for that the output will come the last."
   ]
  },
  {
   "cell_type": "code",
   "execution_count": 9,
   "id": "3ea509dc",
   "metadata": {},
   "outputs": [
    {
     "name": "stdout",
     "output_type": "stream",
     "text": [
      "arifuk iskam\n"
     ]
    }
   ],
   "source": [
    "# replace string\n",
    "\n",
    "a = \"ariful islam\"\n",
    "print(a.replace(\"l\", \"k\"))"
   ]
  },
  {
   "cell_type": "code",
   "execution_count": 10,
   "id": "edfae827",
   "metadata": {},
   "outputs": [
    {
     "name": "stdout",
     "output_type": "stream",
     "text": [
      "arifuK isKam\n"
     ]
    }
   ],
   "source": [
    "a = \"ariful islam\"\n",
    "print(a.replace(\"l\", \"k\".upper()))"
   ]
  },
  {
   "cell_type": "code",
   "execution_count": 12,
   "id": "7b976152",
   "metadata": {},
   "outputs": [
    {
     "name": "stdout",
     "output_type": "stream",
     "text": [
      "['Hello', 'World!']\n"
     ]
    }
   ],
   "source": [
    "# by using split function we divided a string as a list\n",
    "\n",
    "a = \"Hello,World!\"\n",
    "print(a.split(\",\"))"
   ]
  },
  {
   "cell_type": "code",
   "execution_count": 13,
   "id": "94d547fd",
   "metadata": {},
   "outputs": [
    {
     "name": "stdout",
     "output_type": "stream",
     "text": [
      "['a', ' b', ' c', ' d', '']\n"
     ]
    }
   ],
   "source": [
    "a = \"ak bk ck dk\"\n",
    "print(a.split(\"k\"))"
   ]
  },
  {
   "cell_type": "code",
   "execution_count": 16,
   "id": "e54917c8",
   "metadata": {},
   "outputs": [
    {
     "name": "stdout",
     "output_type": "stream",
     "text": [
      "['ak', 'bk', 'ck', 'dk']\n"
     ]
    }
   ],
   "source": [
    "# here where he found a space then took as a list.\n",
    "a = \"ak bk ck dk\"\n",
    "print(a.split(\" \"))"
   ]
  },
  {
   "cell_type": "code",
   "execution_count": null,
   "id": "2bf9cef0",
   "metadata": {},
   "outputs": [],
   "source": []
  }
 ],
 "metadata": {
  "kernelspec": {
   "display_name": "Python 3 (ipykernel)",
   "language": "python",
   "name": "python3"
  },
  "language_info": {
   "codemirror_mode": {
    "name": "ipython",
    "version": 3
   },
   "file_extension": ".py",
   "mimetype": "text/x-python",
   "name": "python",
   "nbconvert_exporter": "python",
   "pygments_lexer": "ipython3",
   "version": "3.9.12"
  }
 },
 "nbformat": 4,
 "nbformat_minor": 5
}
