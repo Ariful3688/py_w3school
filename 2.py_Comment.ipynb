{
 "cells": [
  {
   "cell_type": "code",
   "execution_count": 1,
   "id": "f87e332f",
   "metadata": {},
   "outputs": [
    {
     "name": "stdout",
     "output_type": "stream",
     "text": [
      "Hello, World!\n"
     ]
    }
   ],
   "source": [
    "#This is a comment\n",
    "print(\"Hello, World!\")"
   ]
  },
  {
   "cell_type": "code",
   "execution_count": 2,
   "id": "8ad3d888",
   "metadata": {},
   "outputs": [
    {
     "ename": "SyntaxError",
     "evalue": "invalid syntax (1962348860.py, line 1)",
     "output_type": "error",
     "traceback": [
      "\u001b[0;36m  Input \u001b[0;32mIn [2]\u001b[0;36m\u001b[0m\n\u001b[0;31m    This is a comment\u001b[0m\n\u001b[0m              ^\u001b[0m\n\u001b[0;31mSyntaxError\u001b[0m\u001b[0;31m:\u001b[0m invalid syntax\n"
     ]
    }
   ],
   "source": [
    "This is a comment\n",
    "print(\"Hello, World!\")\n",
    "\n",
    "#if we don't give #, then it's not a cimment"
   ]
  },
  {
   "cell_type": "code",
   "execution_count": 3,
   "id": "03306d3a",
   "metadata": {},
   "outputs": [
    {
     "name": "stdout",
     "output_type": "stream",
     "text": [
      "Hello, World!\n"
     ]
    }
   ],
   "source": [
    "#This is a comment\n",
    "print(\"Hello, World!\") #This is a comment\n",
    "#This is a comment"
   ]
  },
  {
   "cell_type": "code",
   "execution_count": 4,
   "id": "553cf190",
   "metadata": {},
   "outputs": [],
   "source": [
    "#This is a comment\n",
    "#This is a comment print(\"Hello, World!\") #This is a comment\n",
    "#This is a comment\n",
    "\n",
    "\n",
    "# we can't comment before the code line. if we do that then thats also a comment."
   ]
  },
  {
   "cell_type": "code",
   "execution_count": 5,
   "id": "8d3bc8d1",
   "metadata": {},
   "outputs": [
    {
     "name": "stdout",
     "output_type": "stream",
     "text": [
      "Hello, World!\n"
     ]
    }
   ],
   "source": [
    "#This is a multiline comment\n",
    "\n",
    "#This is a comment\n",
    "#This is a comment\n",
    "#This is a comment\n",
    "print(\"Hello, World!\") "
   ]
  },
  {
   "cell_type": "code",
   "execution_count": 6,
   "id": "ea8b6e27",
   "metadata": {},
   "outputs": [
    {
     "name": "stdout",
     "output_type": "stream",
     "text": [
      "Hello, World!\n"
     ]
    }
   ],
   "source": [
    "\"\"\"\n",
    "This is a multiline comment\n",
    "This is a comment\n",
    "This is a comment\n",
    "This is a comment\n",
    "\"\"\"\n",
    "\n",
    "print(\"Hello, World!\") "
   ]
  },
  {
   "cell_type": "code",
   "execution_count": null,
   "id": "61e28a7a",
   "metadata": {},
   "outputs": [],
   "source": []
  }
 ],
 "metadata": {
  "kernelspec": {
   "display_name": "Python 3 (ipykernel)",
   "language": "python",
   "name": "python3"
  },
  "language_info": {
   "codemirror_mode": {
    "name": "ipython",
    "version": 3
   },
   "file_extension": ".py",
   "mimetype": "text/x-python",
   "name": "python",
   "nbconvert_exporter": "python",
   "pygments_lexer": "ipython3",
   "version": "3.9.12"
  }
 },
 "nbformat": 4,
 "nbformat_minor": 5
}
